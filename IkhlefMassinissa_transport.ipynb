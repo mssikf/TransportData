{
 "cells": [
  {
   "cell_type": "code",
   "execution_count": 1,
   "metadata": {},
   "outputs": [],
   "source": [
    "# IKHLEF Massinissa\n",
    "import os\n",
    "import pandas as pd\n",
    "import numpy as np\n",
    "import datetime\n",
    "import matplotlib\n",
    "import matplotlib.pyplot as plt\n",
    "\n",
    "os.chdir('C:\\\\Users\\PC\\Downloads\\data')"
   ]
  },
  {
   "cell_type": "code",
   "execution_count": 2,
   "metadata": {},
   "outputs": [],
   "source": [
    "#%% Import Data\n",
    "citiesdata = pd.read_csv(\"cities.csv\")\n",
    "providersdata = pd.read_csv(\"providers.csv\")\n",
    "stationsdata = pd.read_csv(\"stations.csv\")\n",
    "ticketdata = pd.read_csv(\"ticket_data.csv\")\n"
   ]
  },
  {
   "cell_type": "code",
   "execution_count": 4,
   "metadata": {},
   "outputs": [
    {
     "name": "stdout",
     "output_type": "stream",
     "text": [
      "<class 'pandas.core.frame.DataFrame'>\n",
      "RangeIndex: 8040 entries, 0 to 8039\n",
      "Data columns (total 6 columns):\n",
      " #   Column       Non-Null Count  Dtype  \n",
      "---  ------       --------------  -----  \n",
      " 0   id           8040 non-null   int64  \n",
      " 1   local_name   8040 non-null   object \n",
      " 2   unique_name  8039 non-null   object \n",
      " 3   latitude     8040 non-null   float64\n",
      " 4   longitude    8040 non-null   float64\n",
      " 5   population   369 non-null    float64\n",
      "dtypes: float64(3), int64(1), object(2)\n",
      "memory usage: 377.0+ KB\n"
     ]
    },
    {
     "data": {
      "text/html": [
       "<div>\n",
       "<style scoped>\n",
       "    .dataframe tbody tr th:only-of-type {\n",
       "        vertical-align: middle;\n",
       "    }\n",
       "\n",
       "    .dataframe tbody tr th {\n",
       "        vertical-align: top;\n",
       "    }\n",
       "\n",
       "    .dataframe thead th {\n",
       "        text-align: right;\n",
       "    }\n",
       "</style>\n",
       "<table border=\"1\" class=\"dataframe\">\n",
       "  <thead>\n",
       "    <tr style=\"text-align: right;\">\n",
       "      <th></th>\n",
       "      <th>id</th>\n",
       "      <th>local_name</th>\n",
       "      <th>unique_name</th>\n",
       "      <th>latitude</th>\n",
       "      <th>longitude</th>\n",
       "      <th>population</th>\n",
       "    </tr>\n",
       "  </thead>\n",
       "  <tbody>\n",
       "    <tr>\n",
       "      <th>0</th>\n",
       "      <td>5159</td>\n",
       "      <td>Padua, Veneto, Italia</td>\n",
       "      <td>padua</td>\n",
       "      <td>45.406435</td>\n",
       "      <td>11.876761</td>\n",
       "      <td>209678.0</td>\n",
       "    </tr>\n",
       "    <tr>\n",
       "      <th>1</th>\n",
       "      <td>76</td>\n",
       "      <td>Barcelona, Cataluña, España</td>\n",
       "      <td>barcelona</td>\n",
       "      <td>41.385064</td>\n",
       "      <td>2.173404</td>\n",
       "      <td>1611822.0</td>\n",
       "    </tr>\n",
       "    <tr>\n",
       "      <th>2</th>\n",
       "      <td>81</td>\n",
       "      <td>Basel, Basel-Stadt, Schweiz</td>\n",
       "      <td>basel</td>\n",
       "      <td>47.593437</td>\n",
       "      <td>7.619812</td>\n",
       "      <td>NaN</td>\n",
       "    </tr>\n",
       "    <tr>\n",
       "      <th>3</th>\n",
       "      <td>259</td>\n",
       "      <td>Erlangen, Bayern, Deutschland</td>\n",
       "      <td>erlangen</td>\n",
       "      <td>49.589674</td>\n",
       "      <td>11.011961</td>\n",
       "      <td>105412.0</td>\n",
       "    </tr>\n",
       "    <tr>\n",
       "      <th>4</th>\n",
       "      <td>11979</td>\n",
       "      <td>Balș, Olt, România</td>\n",
       "      <td>balș</td>\n",
       "      <td>44.353354</td>\n",
       "      <td>24.095672</td>\n",
       "      <td>NaN</td>\n",
       "    </tr>\n",
       "  </tbody>\n",
       "</table>\n",
       "</div>"
      ],
      "text/plain": [
       "      id                     local_name unique_name   latitude  longitude  \\\n",
       "0   5159          Padua, Veneto, Italia       padua  45.406435  11.876761   \n",
       "1     76    Barcelona, Cataluña, España   barcelona  41.385064   2.173404   \n",
       "2     81    Basel, Basel-Stadt, Schweiz       basel  47.593437   7.619812   \n",
       "3    259  Erlangen, Bayern, Deutschland    erlangen  49.589674  11.011961   \n",
       "4  11979             Balș, Olt, România        balș  44.353354  24.095672   \n",
       "\n",
       "   population  \n",
       "0    209678.0  \n",
       "1   1611822.0  \n",
       "2         NaN  \n",
       "3    105412.0  \n",
       "4         NaN  "
      ]
     },
     "execution_count": 4,
     "metadata": {},
     "output_type": "execute_result"
    }
   ],
   "source": [
    "#%% Understand the data\n",
    "\n",
    "# Cities\n",
    "citiesdata.info()\n",
    "citiesdata.head()\n",
    "# We can see that we have missing values in population column but we don't have missing \n",
    "# values in the more important columns and the type of data is already set"
   ]
  },
  {
   "cell_type": "code",
   "execution_count": 5,
   "metadata": {},
   "outputs": [
    {
     "name": "stdout",
     "output_type": "stream",
     "text": [
      "<class 'pandas.core.frame.DataFrame'>\n",
      "RangeIndex: 227 entries, 0 to 226\n",
      "Data columns (total 10 columns):\n",
      " #   Column                Non-Null Count  Dtype \n",
      "---  ------                --------------  ----- \n",
      " 0   id                    227 non-null    int64 \n",
      " 1   company_id            227 non-null    int64 \n",
      " 2   provider_id           213 non-null    object\n",
      " 3   name                  227 non-null    object\n",
      " 4   fullname              227 non-null    object\n",
      " 5   has_wifi              224 non-null    object\n",
      " 6   has_plug              224 non-null    object\n",
      " 7   has_adjustable_seats  224 non-null    object\n",
      " 8   has_bicycle           224 non-null    object\n",
      " 9   transport_type        227 non-null    object\n",
      "dtypes: int64(2), object(8)\n",
      "memory usage: 17.9+ KB\n"
     ]
    },
    {
     "data": {
      "text/html": [
       "<div>\n",
       "<style scoped>\n",
       "    .dataframe tbody tr th:only-of-type {\n",
       "        vertical-align: middle;\n",
       "    }\n",
       "\n",
       "    .dataframe tbody tr th {\n",
       "        vertical-align: top;\n",
       "    }\n",
       "\n",
       "    .dataframe thead th {\n",
       "        text-align: right;\n",
       "    }\n",
       "</style>\n",
       "<table border=\"1\" class=\"dataframe\">\n",
       "  <thead>\n",
       "    <tr style=\"text-align: right;\">\n",
       "      <th></th>\n",
       "      <th>id</th>\n",
       "      <th>company_id</th>\n",
       "      <th>provider_id</th>\n",
       "      <th>name</th>\n",
       "      <th>fullname</th>\n",
       "      <th>has_wifi</th>\n",
       "      <th>has_plug</th>\n",
       "      <th>has_adjustable_seats</th>\n",
       "      <th>has_bicycle</th>\n",
       "      <th>transport_type</th>\n",
       "    </tr>\n",
       "  </thead>\n",
       "  <tbody>\n",
       "    <tr>\n",
       "      <th>0</th>\n",
       "      <td>9</td>\n",
       "      <td>1</td>\n",
       "      <td>NaN</td>\n",
       "      <td>ouibus</td>\n",
       "      <td>Ouibus</td>\n",
       "      <td>True</td>\n",
       "      <td>True</td>\n",
       "      <td>True</td>\n",
       "      <td>False</td>\n",
       "      <td>bus</td>\n",
       "    </tr>\n",
       "    <tr>\n",
       "      <th>1</th>\n",
       "      <td>10</td>\n",
       "      <td>2</td>\n",
       "      <td>NaN</td>\n",
       "      <td>deinbus</td>\n",
       "      <td>Deinbus.de</td>\n",
       "      <td>False</td>\n",
       "      <td>False</td>\n",
       "      <td>False</td>\n",
       "      <td>False</td>\n",
       "      <td>bus</td>\n",
       "    </tr>\n",
       "    <tr>\n",
       "      <th>2</th>\n",
       "      <td>11</td>\n",
       "      <td>3</td>\n",
       "      <td>NaN</td>\n",
       "      <td>infobus</td>\n",
       "      <td>Infobus</td>\n",
       "      <td>False</td>\n",
       "      <td>False</td>\n",
       "      <td>False</td>\n",
       "      <td>False</td>\n",
       "      <td>bus</td>\n",
       "    </tr>\n",
       "    <tr>\n",
       "      <th>3</th>\n",
       "      <td>12</td>\n",
       "      <td>4</td>\n",
       "      <td>NaN</td>\n",
       "      <td>studentAgency</td>\n",
       "      <td>Student Agency</td>\n",
       "      <td>False</td>\n",
       "      <td>False</td>\n",
       "      <td>False</td>\n",
       "      <td>False</td>\n",
       "      <td>bus</td>\n",
       "    </tr>\n",
       "    <tr>\n",
       "      <th>4</th>\n",
       "      <td>13</td>\n",
       "      <td>5</td>\n",
       "      <td>NaN</td>\n",
       "      <td>flixbus</td>\n",
       "      <td>Flixbus</td>\n",
       "      <td>True</td>\n",
       "      <td>False</td>\n",
       "      <td>False</td>\n",
       "      <td>False</td>\n",
       "      <td>bus</td>\n",
       "    </tr>\n",
       "  </tbody>\n",
       "</table>\n",
       "</div>"
      ],
      "text/plain": [
       "   id  company_id provider_id           name        fullname has_wifi  \\\n",
       "0   9           1         NaN         ouibus          Ouibus     True   \n",
       "1  10           2         NaN        deinbus      Deinbus.de    False   \n",
       "2  11           3         NaN        infobus         Infobus    False   \n",
       "3  12           4         NaN  studentAgency  Student Agency    False   \n",
       "4  13           5         NaN        flixbus         Flixbus     True   \n",
       "\n",
       "  has_plug has_adjustable_seats has_bicycle transport_type  \n",
       "0     True                 True       False            bus  \n",
       "1    False                False       False            bus  \n",
       "2    False                False       False            bus  \n",
       "3    False                False       False            bus  \n",
       "4    False                False       False            bus  "
      ]
     },
     "execution_count": 5,
     "metadata": {},
     "output_type": "execute_result"
    }
   ],
   "source": [
    "# Providers\n",
    "providersdata.info()\n",
    "providersdata.head()\n",
    "#We can see that there are some missing values and the types are not as they are supposed to be for example transport_type should be a string"
   ]
  },
  {
   "cell_type": "code",
   "execution_count": 6,
   "metadata": {},
   "outputs": [
    {
     "name": "stdout",
     "output_type": "stream",
     "text": [
      "<class 'pandas.core.frame.DataFrame'>\n",
      "RangeIndex: 11035 entries, 0 to 11034\n",
      "Data columns (total 4 columns):\n",
      " #   Column       Non-Null Count  Dtype  \n",
      "---  ------       --------------  -----  \n",
      " 0   id           11035 non-null  int64  \n",
      " 1   unique_name  11035 non-null  object \n",
      " 2   latitude     11035 non-null  float64\n",
      " 3   longitude    11035 non-null  float64\n",
      "dtypes: float64(2), int64(1), object(1)\n",
      "memory usage: 345.0+ KB\n"
     ]
    },
    {
     "data": {
      "text/html": [
       "<div>\n",
       "<style scoped>\n",
       "    .dataframe tbody tr th:only-of-type {\n",
       "        vertical-align: middle;\n",
       "    }\n",
       "\n",
       "    .dataframe tbody tr th {\n",
       "        vertical-align: top;\n",
       "    }\n",
       "\n",
       "    .dataframe thead th {\n",
       "        text-align: right;\n",
       "    }\n",
       "</style>\n",
       "<table border=\"1\" class=\"dataframe\">\n",
       "  <thead>\n",
       "    <tr style=\"text-align: right;\">\n",
       "      <th></th>\n",
       "      <th>id</th>\n",
       "      <th>unique_name</th>\n",
       "      <th>latitude</th>\n",
       "      <th>longitude</th>\n",
       "    </tr>\n",
       "  </thead>\n",
       "  <tbody>\n",
       "    <tr>\n",
       "      <th>0</th>\n",
       "      <td>1</td>\n",
       "      <td>Aalen (Stuttgarter Straße)</td>\n",
       "      <td>48.835296</td>\n",
       "      <td>10.092956</td>\n",
       "    </tr>\n",
       "    <tr>\n",
       "      <th>1</th>\n",
       "      <td>2</td>\n",
       "      <td>Aéroport Bordeaux-Mérignac</td>\n",
       "      <td>44.830226</td>\n",
       "      <td>-0.700883</td>\n",
       "    </tr>\n",
       "    <tr>\n",
       "      <th>2</th>\n",
       "      <td>3</td>\n",
       "      <td>Aéroport CDG</td>\n",
       "      <td>49.009900</td>\n",
       "      <td>2.559310</td>\n",
       "    </tr>\n",
       "    <tr>\n",
       "      <th>3</th>\n",
       "      <td>4</td>\n",
       "      <td>Aéroport de Berlin-Schönefeld</td>\n",
       "      <td>52.389446</td>\n",
       "      <td>13.520345</td>\n",
       "    </tr>\n",
       "    <tr>\n",
       "      <th>4</th>\n",
       "      <td>5</td>\n",
       "      <td>Aéroport de Dresden</td>\n",
       "      <td>51.123604</td>\n",
       "      <td>13.764737</td>\n",
       "    </tr>\n",
       "  </tbody>\n",
       "</table>\n",
       "</div>"
      ],
      "text/plain": [
       "   id                     unique_name   latitude  longitude\n",
       "0   1      Aalen (Stuttgarter Straße)  48.835296  10.092956\n",
       "1   2      Aéroport Bordeaux-Mérignac  44.830226  -0.700883\n",
       "2   3                   Aéroport CDG   49.009900   2.559310\n",
       "3   4  Aéroport de Berlin-Schönefeld   52.389446  13.520345\n",
       "4   5             Aéroport de Dresden  51.123604  13.764737"
      ]
     },
     "execution_count": 6,
     "metadata": {},
     "output_type": "execute_result"
    }
   ],
   "source": [
    "#Stations\n",
    "stationsdata.info()\n",
    "stationsdata.head() \n",
    "# All is good"
   ]
  },
  {
   "cell_type": "code",
   "execution_count": 7,
   "metadata": {},
   "outputs": [
    {
     "name": "stdout",
     "output_type": "stream",
     "text": [
      "<class 'pandas.core.frame.DataFrame'>\n",
      "RangeIndex: 74168 entries, 0 to 74167\n",
      "Data columns (total 12 columns):\n",
      " #   Column           Non-Null Count  Dtype  \n",
      "---  ------           --------------  -----  \n",
      " 0   id               74168 non-null  int64  \n",
      " 1   company          74168 non-null  int64  \n",
      " 2   o_station        32727 non-null  float64\n",
      " 3   d_station        32727 non-null  float64\n",
      " 4   departure_ts     74168 non-null  object \n",
      " 5   arrival_ts       74168 non-null  object \n",
      " 6   price_in_cents   74168 non-null  int64  \n",
      " 7   search_ts        74168 non-null  object \n",
      " 8   middle_stations  32727 non-null  object \n",
      " 9   other_companies  32727 non-null  object \n",
      " 10  o_city           74168 non-null  int64  \n",
      " 11  d_city           74168 non-null  int64  \n",
      "dtypes: float64(2), int64(5), object(5)\n",
      "memory usage: 6.8+ MB\n"
     ]
    },
    {
     "data": {
      "text/html": [
       "<div>\n",
       "<style scoped>\n",
       "    .dataframe tbody tr th:only-of-type {\n",
       "        vertical-align: middle;\n",
       "    }\n",
       "\n",
       "    .dataframe tbody tr th {\n",
       "        vertical-align: top;\n",
       "    }\n",
       "\n",
       "    .dataframe thead th {\n",
       "        text-align: right;\n",
       "    }\n",
       "</style>\n",
       "<table border=\"1\" class=\"dataframe\">\n",
       "  <thead>\n",
       "    <tr style=\"text-align: right;\">\n",
       "      <th></th>\n",
       "      <th>id</th>\n",
       "      <th>company</th>\n",
       "      <th>o_station</th>\n",
       "      <th>d_station</th>\n",
       "      <th>departure_ts</th>\n",
       "      <th>arrival_ts</th>\n",
       "      <th>price_in_cents</th>\n",
       "      <th>search_ts</th>\n",
       "      <th>middle_stations</th>\n",
       "      <th>other_companies</th>\n",
       "      <th>o_city</th>\n",
       "      <th>d_city</th>\n",
       "    </tr>\n",
       "  </thead>\n",
       "  <tbody>\n",
       "    <tr>\n",
       "      <th>0</th>\n",
       "      <td>6795025</td>\n",
       "      <td>8385</td>\n",
       "      <td>NaN</td>\n",
       "      <td>NaN</td>\n",
       "      <td>2017-10-13 14:00:00+00</td>\n",
       "      <td>2017-10-13 20:10:00+00</td>\n",
       "      <td>4550</td>\n",
       "      <td>2017-10-01 00:13:31.327+00</td>\n",
       "      <td>NaN</td>\n",
       "      <td>NaN</td>\n",
       "      <td>611</td>\n",
       "      <td>542</td>\n",
       "    </tr>\n",
       "    <tr>\n",
       "      <th>1</th>\n",
       "      <td>6795026</td>\n",
       "      <td>9</td>\n",
       "      <td>63.0</td>\n",
       "      <td>1044.0</td>\n",
       "      <td>2017-10-13 13:05:00+00</td>\n",
       "      <td>2017-10-14 06:55:00+00</td>\n",
       "      <td>1450</td>\n",
       "      <td>2017-10-01 00:13:35.773+00</td>\n",
       "      <td>{149,418}</td>\n",
       "      <td>{13}</td>\n",
       "      <td>611</td>\n",
       "      <td>542</td>\n",
       "    </tr>\n",
       "    <tr>\n",
       "      <th>2</th>\n",
       "      <td>6795027</td>\n",
       "      <td>8377</td>\n",
       "      <td>5905.0</td>\n",
       "      <td>6495.0</td>\n",
       "      <td>2017-10-13 13:27:00+00</td>\n",
       "      <td>2017-10-14 21:24:00+00</td>\n",
       "      <td>7400</td>\n",
       "      <td>2017-10-01 00:13:40.212+00</td>\n",
       "      <td>{798,798,6794,6246}</td>\n",
       "      <td>{8377,8376}</td>\n",
       "      <td>611</td>\n",
       "      <td>542</td>\n",
       "    </tr>\n",
       "    <tr>\n",
       "      <th>3</th>\n",
       "      <td>6795028</td>\n",
       "      <td>8377</td>\n",
       "      <td>5905.0</td>\n",
       "      <td>6495.0</td>\n",
       "      <td>2017-10-13 13:27:00+00</td>\n",
       "      <td>2017-10-14 11:02:00+00</td>\n",
       "      <td>13500</td>\n",
       "      <td>2017-10-01 00:13:40.213+00</td>\n",
       "      <td>{798,798,6794,6246}</td>\n",
       "      <td>{8377,8376}</td>\n",
       "      <td>611</td>\n",
       "      <td>542</td>\n",
       "    </tr>\n",
       "    <tr>\n",
       "      <th>4</th>\n",
       "      <td>6795029</td>\n",
       "      <td>8381</td>\n",
       "      <td>5905.0</td>\n",
       "      <td>6495.0</td>\n",
       "      <td>2017-10-13 21:46:00+00</td>\n",
       "      <td>2017-10-14 19:32:00+00</td>\n",
       "      <td>7710</td>\n",
       "      <td>2017-10-01 00:13:40.213+00</td>\n",
       "      <td>{5983,5983}</td>\n",
       "      <td>{8380}</td>\n",
       "      <td>611</td>\n",
       "      <td>542</td>\n",
       "    </tr>\n",
       "  </tbody>\n",
       "</table>\n",
       "</div>"
      ],
      "text/plain": [
       "        id  company  o_station  d_station            departure_ts  \\\n",
       "0  6795025     8385        NaN        NaN  2017-10-13 14:00:00+00   \n",
       "1  6795026        9       63.0     1044.0  2017-10-13 13:05:00+00   \n",
       "2  6795027     8377     5905.0     6495.0  2017-10-13 13:27:00+00   \n",
       "3  6795028     8377     5905.0     6495.0  2017-10-13 13:27:00+00   \n",
       "4  6795029     8381     5905.0     6495.0  2017-10-13 21:46:00+00   \n",
       "\n",
       "               arrival_ts  price_in_cents                   search_ts  \\\n",
       "0  2017-10-13 20:10:00+00            4550  2017-10-01 00:13:31.327+00   \n",
       "1  2017-10-14 06:55:00+00            1450  2017-10-01 00:13:35.773+00   \n",
       "2  2017-10-14 21:24:00+00            7400  2017-10-01 00:13:40.212+00   \n",
       "3  2017-10-14 11:02:00+00           13500  2017-10-01 00:13:40.213+00   \n",
       "4  2017-10-14 19:32:00+00            7710  2017-10-01 00:13:40.213+00   \n",
       "\n",
       "       middle_stations other_companies  o_city  d_city  \n",
       "0                  NaN             NaN     611     542  \n",
       "1            {149,418}            {13}     611     542  \n",
       "2  {798,798,6794,6246}     {8377,8376}     611     542  \n",
       "3  {798,798,6794,6246}     {8377,8376}     611     542  \n",
       "4          {5983,5983}          {8380}     611     542  "
      ]
     },
     "execution_count": 7,
     "metadata": {},
     "output_type": "execute_result"
    }
   ],
   "source": [
    "#Tickets\n",
    "ticketdata.info()\n",
    "ticketdata.head()\n",
    "# We can see that there are a lot of missing values in the exact stations (meaning the distances will be computed on cities) \n",
    "# furtheremore, the time in departure and arrival times/ the price in cents need to be converted."
   ]
  },
  {
   "cell_type": "code",
   "execution_count": 9,
   "metadata": {
    "scrolled": true
   },
   "outputs": [
    {
     "data": {
      "text/html": [
       "<div>\n",
       "<style scoped>\n",
       "    .dataframe tbody tr th:only-of-type {\n",
       "        vertical-align: middle;\n",
       "    }\n",
       "\n",
       "    .dataframe tbody tr th {\n",
       "        vertical-align: top;\n",
       "    }\n",
       "\n",
       "    .dataframe thead th {\n",
       "        text-align: right;\n",
       "    }\n",
       "</style>\n",
       "<table border=\"1\" class=\"dataframe\">\n",
       "  <thead>\n",
       "    <tr style=\"text-align: right;\">\n",
       "      <th></th>\n",
       "      <th>price_in_cents</th>\n",
       "      <th>distance</th>\n",
       "      <th>duration</th>\n",
       "    </tr>\n",
       "  </thead>\n",
       "  <tbody>\n",
       "    <tr>\n",
       "      <th>count</th>\n",
       "      <td>74168.000000</td>\n",
       "      <td>74168.000000</td>\n",
       "      <td>74168</td>\n",
       "    </tr>\n",
       "    <tr>\n",
       "      <th>mean</th>\n",
       "      <td>43.827111</td>\n",
       "      <td>363.038181</td>\n",
       "      <td>0 days 07:04:37.247600</td>\n",
       "    </tr>\n",
       "    <tr>\n",
       "      <th>std</th>\n",
       "      <td>37.393254</td>\n",
       "      <td>194.930614</td>\n",
       "      <td>0 days 09:54:58.881351</td>\n",
       "    </tr>\n",
       "    <tr>\n",
       "      <th>min</th>\n",
       "      <td>3.000000</td>\n",
       "      <td>18.913242</td>\n",
       "      <td>0 days 00:20:00</td>\n",
       "    </tr>\n",
       "    <tr>\n",
       "      <th>25%</th>\n",
       "      <td>19.000000</td>\n",
       "      <td>205.842591</td>\n",
       "      <td>0 days 03:00:00</td>\n",
       "    </tr>\n",
       "    <tr>\n",
       "      <th>50%</th>\n",
       "      <td>33.500000</td>\n",
       "      <td>338.320135</td>\n",
       "      <td>0 days 04:50:00</td>\n",
       "    </tr>\n",
       "    <tr>\n",
       "      <th>75%</th>\n",
       "      <td>52.500000</td>\n",
       "      <td>480.413820</td>\n",
       "      <td>0 days 08:00:00</td>\n",
       "    </tr>\n",
       "    <tr>\n",
       "      <th>max</th>\n",
       "      <td>385.500000</td>\n",
       "      <td>1870.172021</td>\n",
       "      <td>20 days 12:51:00</td>\n",
       "    </tr>\n",
       "  </tbody>\n",
       "</table>\n",
       "</div>"
      ],
      "text/plain": [
       "       price_in_cents      distance                duration\n",
       "count    74168.000000  74168.000000                   74168\n",
       "mean        43.827111    363.038181  0 days 07:04:37.247600\n",
       "std         37.393254    194.930614  0 days 09:54:58.881351\n",
       "min          3.000000     18.913242         0 days 00:20:00\n",
       "25%         19.000000    205.842591         0 days 03:00:00\n",
       "50%         33.500000    338.320135         0 days 04:50:00\n",
       "75%         52.500000    480.413820         0 days 08:00:00\n",
       "max        385.500000   1870.172021        20 days 12:51:00"
      ]
     },
     "execution_count": 9,
     "metadata": {},
     "output_type": "execute_result"
    }
   ],
   "source": [
    "#%% Insights on the data\n",
    "# To be able to analyse correctly the data we have to group it using keys.\n",
    "#we start by cleaning and traeting the databases\n",
    "\n",
    "# Ticket data treatment\n",
    "ticketdata=ticketdata.drop(columns=['middle_stations','other_companies'])\n",
    "# convert date to date format\n",
    "ticketdata.departure_ts=pd.to_datetime(ticketdata['departure_ts'] ,errors ='coerce')\n",
    "ticketdata.arrival_ts=pd.to_datetime(ticketdata['arrival_ts'] ,errors ='coerce')\n",
    "# Convert the price \n",
    "ticketdata.price_in_cents = ticketdata.price_in_cents/100\n",
    "\n",
    "# citiesdata \n",
    "citiesdata= citiesdata.drop(columns=['local_name','population'])\n",
    "citiesdata = citiesdata.astype({\"unique_name\": str})\n",
    "\n",
    "#Merging the data\n",
    "new=pd.merge(ticketdata,citiesdata, left_on='o_city',right_on='id', how='left')\n",
    "new= new.drop(columns=['id_y'])\n",
    "\n",
    "new= new.rename(columns={\"unique_name\": \"ocity_name\", \"latitude\": \"oc_latitude\",\"longitude\": \"oc_longitude\"})\n",
    "\n",
    "new=pd.merge(new,citiesdata, left_on='d_city',right_on='id', how='left')\n",
    "new= new.drop(columns=['id'])\n",
    "new= new.rename(columns={\"unique_name\": \"dcity_name\", \"latitude\": \"dc_latitude\",\"longitude\": \"dc_longitude\"})\n",
    "\n",
    "# Let's compute the distances \n",
    "new['distance']= np.arccos(np.sin(np.radians(new.dc_latitude))*np.sin(np.radians(new.oc_latitude))+np.cos(np.radians(new.dc_latitude))*np.cos(np.radians(new.oc_latitude))*np.cos(np.radians(new.dc_longitude-new.oc_longitude)))*6371.\n",
    "new['duration']= new.arrival_ts-new.departure_ts\n",
    "\n",
    "new= new.drop(columns=['dc_latitude','dc_longitude','oc_latitude','oc_longitude'])   \n",
    "\n",
    "# We can now draw some insghits on the prices and durations in general\n",
    "Insightdata=new.loc[:,['price_in_cents','distance','duration']]\n",
    "Insightdata.describe()\n"
   ]
  },
  {
   "cell_type": "markdown",
   "metadata": {},
   "source": [
    "since the mean is higher than the mediane, we can say that the data is skewed on the right "
   ]
  },
  {
   "cell_type": "code",
   "execution_count": 10,
   "metadata": {},
   "outputs": [
    {
     "data": {
      "text/plain": [
       "<matplotlib.axes._subplots.AxesSubplot at 0x1e0403720f0>"
      ]
     },
     "execution_count": 10,
     "metadata": {},
     "output_type": "execute_result"
    },
    {
     "data": {
      "image/png": "[encoded data removed]",
      "text/plain": [
       "<Figure size 864x432 with 1 Axes>"
      ]
     },
     "metadata": {
      "needs_background": "light"
     },
     "output_type": "display_data"
    }
   ],
   "source": [
    "#Organize the data by cities\n",
    "new.index = pd.MultiIndex.from_frame(new.iloc[:,[10,11]])\n",
    "new = new.sort_index()\n",
    "\n",
    "# Visualisation on the most frequent couple of cities\n",
    "counted= new.groupby(new.index).count()\n",
    "counted= counted.duration\n",
    "counted.loc[counted>=200].plot.bar(title=\"The frequency of trips by couple of cities\",figsize=(12,6))"
   ]
  },
  {
   "cell_type": "markdown",
   "metadata": {},
   "source": [
    "We can see that most of frequent trips are from or into Paris, though for example Paris-Lyon and Lyon-Paris are taken separately.\\\n",
    "It would be interesting to see the travels during time (seasonality)."
   ]
  },
  {
   "cell_type": "code",
   "execution_count": 11,
   "metadata": {},
   "outputs": [
    {
     "data": {
      "text/html": [
       "<div>\n",
       "<style scoped>\n",
       "    .dataframe tbody tr th:only-of-type {\n",
       "        vertical-align: middle;\n",
       "    }\n",
       "\n",
       "    .dataframe tbody tr th {\n",
       "        vertical-align: top;\n",
       "    }\n",
       "\n",
       "    .dataframe thead th {\n",
       "        text-align: right;\n",
       "    }\n",
       "</style>\n",
       "<table border=\"1\" class=\"dataframe\">\n",
       "  <thead>\n",
       "    <tr style=\"text-align: right;\">\n",
       "      <th></th>\n",
       "      <th>pricemin</th>\n",
       "      <th>pricemean</th>\n",
       "      <th>pricemax</th>\n",
       "    </tr>\n",
       "  </thead>\n",
       "  <tbody>\n",
       "    <tr>\n",
       "      <th>count</th>\n",
       "      <td>1437.000000</td>\n",
       "      <td>1437.000000</td>\n",
       "      <td>1437.000000</td>\n",
       "    </tr>\n",
       "    <tr>\n",
       "      <th>mean</th>\n",
       "      <td>32.012811</td>\n",
       "      <td>51.532971</td>\n",
       "      <td>79.373869</td>\n",
       "    </tr>\n",
       "    <tr>\n",
       "      <th>std</th>\n",
       "      <td>25.193420</td>\n",
       "      <td>35.916159</td>\n",
       "      <td>58.768859</td>\n",
       "    </tr>\n",
       "    <tr>\n",
       "      <th>min</th>\n",
       "      <td>3.000000</td>\n",
       "      <td>3.200000</td>\n",
       "      <td>4.000000</td>\n",
       "    </tr>\n",
       "    <tr>\n",
       "      <th>25%</th>\n",
       "      <td>15.500000</td>\n",
       "      <td>26.266667</td>\n",
       "      <td>36.800000</td>\n",
       "    </tr>\n",
       "    <tr>\n",
       "      <th>50%</th>\n",
       "      <td>26.000000</td>\n",
       "      <td>43.116667</td>\n",
       "      <td>61.500000</td>\n",
       "    </tr>\n",
       "    <tr>\n",
       "      <th>75%</th>\n",
       "      <td>40.000000</td>\n",
       "      <td>68.159574</td>\n",
       "      <td>108.600000</td>\n",
       "    </tr>\n",
       "    <tr>\n",
       "      <th>max</th>\n",
       "      <td>212.500000</td>\n",
       "      <td>305.617647</td>\n",
       "      <td>385.500000</td>\n",
       "    </tr>\n",
       "  </tbody>\n",
       "</table>\n",
       "</div>"
      ],
      "text/plain": [
       "          pricemin    pricemean     pricemax\n",
       "count  1437.000000  1437.000000  1437.000000\n",
       "mean     32.012811    51.532971    79.373869\n",
       "std      25.193420    35.916159    58.768859\n",
       "min       3.000000     3.200000     4.000000\n",
       "25%      15.500000    26.266667    36.800000\n",
       "50%      26.000000    43.116667    61.500000\n",
       "75%      40.000000    68.159574   108.600000\n",
       "max     212.500000   305.617647   385.500000"
      ]
     },
     "execution_count": 11,
     "metadata": {},
     "output_type": "execute_result"
    },
    {
     "data": {
      "image/png": "[encoded data removed]",
      "text/plain": [
       "<Figure size 864x360 with 1 Axes>"
      ]
     },
     "metadata": {
      "needs_background": "light"
     },
     "output_type": "display_data"
    }
   ],
   "source": [
    "### prices per trip\n",
    "pricemin=  new['price_in_cents'].groupby(new.index).min()\n",
    "pricemean = new['price_in_cents'].groupby(new.index).mean()\n",
    "pricemax = new['price_in_cents'].groupby(new.index).max()\n",
    "\n",
    "# Random trips' prices plot\n",
    "plott= pd.DataFrame({'pricemin': pricemin,'pricemean': pricemean,\\\n",
    "                    'pricemax':  pricemax})\n",
    "plott[700:710].plot.bar(title=\"Prices of 10 random trips\",rot=90,figsize=(12,5))\n",
    "plott.describe()"
   ]
  },
  {
   "cell_type": "code",
   "execution_count": 14,
   "metadata": {},
   "outputs": [
    {
     "name": "stdout",
     "output_type": "stream",
     "text": [
      "                  Durationmin             Durationmean             Durationmax\n",
      "count                    1437                     1437                    1437\n",
      "mean   0 days 07:29:08.016701   0 days 11:42:58.451806  0 days 22:41:59.290187\n",
      "std    0 days 14:18:58.030491   0 days 17:36:16.801882  1 days 04:42:43.833169\n",
      "min           0 days 00:20:00          0 days 00:44:00         0 days 00:50:00\n",
      "25%           0 days 02:42:00          0 days 05:01:30         0 days 09:50:00\n",
      "50%           0 days 05:00:00          0 days 08:47:45         0 days 19:40:00\n",
      "75%           0 days 08:10:00   0 days 14:30:56.896551         1 days 05:05:00\n",
      "max          13 days 21:20:00  14 days 04:48:19.999999        20 days 12:51:00\n"
     ]
    },
    {
     "data": {
      "text/html": [
       "<div>\n",
       "<style scoped>\n",
       "    .dataframe tbody tr th:only-of-type {\n",
       "        vertical-align: middle;\n",
       "    }\n",
       "\n",
       "    .dataframe tbody tr th {\n",
       "        vertical-align: top;\n",
       "    }\n",
       "\n",
       "    .dataframe thead th {\n",
       "        text-align: right;\n",
       "    }\n",
       "</style>\n",
       "<table border=\"1\" class=\"dataframe\">\n",
       "  <thead>\n",
       "    <tr style=\"text-align: right;\">\n",
       "      <th></th>\n",
       "      <th>Durationmin</th>\n",
       "      <th>Durationmean</th>\n",
       "      <th>Durationmax</th>\n",
       "    </tr>\n",
       "  </thead>\n",
       "  <tbody>\n",
       "    <tr>\n",
       "      <th>(aeroport-paris-vatry-, troyes)</th>\n",
       "      <td>21:55:00</td>\n",
       "      <td>21:55:00</td>\n",
       "      <td>21:55:00</td>\n",
       "    </tr>\n",
       "    <tr>\n",
       "      <th>(agde, amsterdam)</th>\n",
       "      <td>08:53:00</td>\n",
       "      <td>10:18:48</td>\n",
       "      <td>15:54:00</td>\n",
       "    </tr>\n",
       "    <tr>\n",
       "      <th>(agen, dijon)</th>\n",
       "      <td>12:24:00</td>\n",
       "      <td>13:42:30</td>\n",
       "      <td>15:01:00</td>\n",
       "    </tr>\n",
       "    <tr>\n",
       "      <th>(agen, marseille)</th>\n",
       "      <td>05:36:00</td>\n",
       "      <td>08:17:24</td>\n",
       "      <td>12:20:00</td>\n",
       "    </tr>\n",
       "    <tr>\n",
       "      <th>(agen, marseille-aeroport)</th>\n",
       "      <td>05:00:00</td>\n",
       "      <td>05:50:00</td>\n",
       "      <td>08:00:00</td>\n",
       "    </tr>\n",
       "  </tbody>\n",
       "</table>\n",
       "</div>"
      ],
      "text/plain": [
       "                                Durationmin Durationmean Durationmax\n",
       "(aeroport-paris-vatry-, troyes)    21:55:00     21:55:00    21:55:00\n",
       "(agde, amsterdam)                  08:53:00     10:18:48    15:54:00\n",
       "(agen, dijon)                      12:24:00     13:42:30    15:01:00\n",
       "(agen, marseille)                  05:36:00     08:17:24    12:20:00\n",
       "(agen, marseille-aeroport)         05:00:00     05:50:00    08:00:00"
      ]
     },
     "execution_count": 14,
     "metadata": {},
     "output_type": "execute_result"
    }
   ],
   "source": [
    "#### durations per trip\n",
    "durationmin=  new['duration'].groupby(new.index).min()\n",
    "\n",
    "durationmean=  new['duration'].astype('timedelta64[m]').astype(float)\n",
    "\n",
    "durationmean= durationmean.groupby(durationmean.index).mean()\n",
    "\n",
    "for row,x in enumerate(durationmean): durationmean.iloc[row]= str(x)+\"m\";\n",
    "durationmean=pd.to_timedelta(durationmean)\n",
    "durationmax=  new['duration'].groupby(new.index).max()\n",
    "\n",
    "plott= pd.DataFrame({'Durationmin': durationmin,'Durationmean': durationmean,\\\n",
    "                    'Durationmax':  durationmax})\n",
    "print(plott.describe())\n",
    "plott.head()"
   ]
  },
  {
   "cell_type": "markdown",
   "metadata": {},
   "source": [
    "### Second Part\n"
   ]
  },
  {
   "cell_type": "code",
   "execution_count": 19,
   "metadata": {},
   "outputs": [
    {
     "name": "stdout",
     "output_type": "stream",
     "text": [
      "The number of companies in tickets data:  20\n",
      "<class 'pandas.core.frame.DataFrame'>\n",
      "Int64Index: 74168 entries, 0 to 74167\n",
      "Data columns (total 16 columns):\n",
      " #   Column          Non-Null Count  Dtype              \n",
      "---  ------          --------------  -----              \n",
      " 0   id_x            74168 non-null  int64              \n",
      " 1   company         74168 non-null  int64              \n",
      " 2   o_station       32727 non-null  float64            \n",
      " 3   d_station       32727 non-null  float64            \n",
      " 4   departure_ts    74168 non-null  datetime64[ns, UTC]\n",
      " 5   arrival_ts      74168 non-null  datetime64[ns, UTC]\n",
      " 6   price_in_cents  74168 non-null  float64            \n",
      " 7   search_ts       74168 non-null  object             \n",
      " 8   o_city          74168 non-null  int64              \n",
      " 9   d_city          74168 non-null  int64              \n",
      " 10  ocity_name      74168 non-null  object             \n",
      " 11  dcity_name      74168 non-null  object             \n",
      " 12  distance        74168 non-null  float64            \n",
      " 13  duration        74168 non-null  timedelta64[ns]    \n",
      " 14  company_id      3574 non-null   float64            \n",
      " 15  transport_type  3574 non-null   object             \n",
      "dtypes: datetime64[ns, UTC](2), float64(5), int64(4), object(4), timedelta64[ns](1)\n",
      "memory usage: 9.6+ MB\n"
     ]
    }
   ],
   "source": [
    "#Get the transport type from providers\n",
    "providersdata1= providersdata[[\"company_id\",\"transport_type\"]].drop_duplicates()\n",
    "# we can see that only the company 10' have two means of transport. Overall, there are 14 labeled companies\n",
    "print(\"The number of companies in tickets data: \",len(new.groupby(\"company\").count()))\n",
    "# 20 companies vs 14\n",
    "providersdata1= providersdata1.drop_duplicates(subset=['company_id'])\n",
    "\n",
    "New= pd.merge(new,providersdata1, left_on='company',right_on='company_id', how='left')\n",
    "New.info()"
   ]
  },
  {
   "cell_type": "markdown",
   "metadata": {},
   "source": [
    "There is only 3.5k of complete observations."
   ]
  },
  {
   "cell_type": "code",
   "execution_count": 24,
   "metadata": {},
   "outputs": [
    {
     "name": "stderr",
     "output_type": "stream",
     "text": [
      "C:\\Users\\PC\\Anaconda3\\lib\\site-packages\\ipykernel_launcher.py:3: SettingWithCopyWarning: \n",
      "A value is trying to be set on a copy of a slice from a DataFrame.\n",
      "Try using .loc[row_indexer,col_indexer] = value instead\n",
      "\n",
      "See the caveats in the documentation: https://pandas.pydata.org/pandas-docs/stable/user_guide/indexing.html#returning-a-view-versus-a-copy\n",
      "  This is separate from the ipykernel package so we can avoid doing imports until\n",
      "C:\\Users\\PC\\Anaconda3\\lib\\site-packages\\pandas\\core\\indexing.py:966: SettingWithCopyWarning: \n",
      "A value is trying to be set on a copy of a slice from a DataFrame.\n",
      "Try using .loc[row_indexer,col_indexer] = value instead\n",
      "\n",
      "See the caveats in the documentation: https://pandas.pydata.org/pandas-docs/stable/user_guide/indexing.html#returning-a-view-versus-a-copy\n",
      "  self.obj[item] = s\n"
     ]
    },
    {
     "data": {
      "text/html": [
       "<div>\n",
       "<style scoped>\n",
       "    .dataframe tbody tr th:only-of-type {\n",
       "        vertical-align: middle;\n",
       "    }\n",
       "\n",
       "    .dataframe tbody tr th {\n",
       "        vertical-align: top;\n",
       "    }\n",
       "\n",
       "    .dataframe thead th {\n",
       "        text-align: right;\n",
       "    }\n",
       "</style>\n",
       "<table border=\"1\" class=\"dataframe\">\n",
       "  <thead>\n",
       "    <tr style=\"text-align: right;\">\n",
       "      <th></th>\n",
       "      <th>company</th>\n",
       "      <th>price_in_cents</th>\n",
       "      <th>distance</th>\n",
       "      <th>duration</th>\n",
       "      <th>Classe</th>\n",
       "    </tr>\n",
       "  </thead>\n",
       "  <tbody>\n",
       "    <tr>\n",
       "      <th>count</th>\n",
       "      <td>74168.000000</td>\n",
       "      <td>74168.000000</td>\n",
       "      <td>74168.000000</td>\n",
       "      <td>74168</td>\n",
       "      <td>74168.000000</td>\n",
       "    </tr>\n",
       "    <tr>\n",
       "      <th>mean</th>\n",
       "      <td>7109.565527</td>\n",
       "      <td>43.827111</td>\n",
       "      <td>363.038181</td>\n",
       "      <td>0 days 07:04:37.247600</td>\n",
       "      <td>1.830857</td>\n",
       "    </tr>\n",
       "    <tr>\n",
       "      <th>std</th>\n",
       "      <td>3005.380792</td>\n",
       "      <td>37.393254</td>\n",
       "      <td>194.930614</td>\n",
       "      <td>0 days 09:54:58.881351</td>\n",
       "      <td>0.427541</td>\n",
       "    </tr>\n",
       "    <tr>\n",
       "      <th>min</th>\n",
       "      <td>9.000000</td>\n",
       "      <td>3.000000</td>\n",
       "      <td>18.913242</td>\n",
       "      <td>0 days 00:20:00</td>\n",
       "      <td>1.000000</td>\n",
       "    </tr>\n",
       "    <tr>\n",
       "      <th>25%</th>\n",
       "      <td>8376.000000</td>\n",
       "      <td>19.000000</td>\n",
       "      <td>205.842591</td>\n",
       "      <td>0 days 03:00:00</td>\n",
       "      <td>2.000000</td>\n",
       "    </tr>\n",
       "    <tr>\n",
       "      <th>50%</th>\n",
       "      <td>8385.000000</td>\n",
       "      <td>33.500000</td>\n",
       "      <td>338.320135</td>\n",
       "      <td>0 days 04:50:00</td>\n",
       "      <td>2.000000</td>\n",
       "    </tr>\n",
       "    <tr>\n",
       "      <th>75%</th>\n",
       "      <td>8385.000000</td>\n",
       "      <td>52.500000</td>\n",
       "      <td>480.413820</td>\n",
       "      <td>0 days 08:00:00</td>\n",
       "      <td>2.000000</td>\n",
       "    </tr>\n",
       "    <tr>\n",
       "      <th>max</th>\n",
       "      <td>8387.000000</td>\n",
       "      <td>385.500000</td>\n",
       "      <td>1870.172021</td>\n",
       "      <td>20 days 12:51:00</td>\n",
       "      <td>3.000000</td>\n",
       "    </tr>\n",
       "  </tbody>\n",
       "</table>\n",
       "</div>"
      ],
      "text/plain": [
       "            company  price_in_cents      distance                duration  \\\n",
       "count  74168.000000    74168.000000  74168.000000                   74168   \n",
       "mean    7109.565527       43.827111    363.038181  0 days 07:04:37.247600   \n",
       "std     3005.380792       37.393254    194.930614  0 days 09:54:58.881351   \n",
       "min        9.000000        3.000000     18.913242         0 days 00:20:00   \n",
       "25%     8376.000000       19.000000    205.842591         0 days 03:00:00   \n",
       "50%     8385.000000       33.500000    338.320135         0 days 04:50:00   \n",
       "75%     8385.000000       52.500000    480.413820         0 days 08:00:00   \n",
       "max     8387.000000      385.500000   1870.172021        20 days 12:51:00   \n",
       "\n",
       "             Classe  \n",
       "count  74168.000000  \n",
       "mean       1.830857  \n",
       "std        0.427541  \n",
       "min        1.000000  \n",
       "25%        2.000000  \n",
       "50%        2.000000  \n",
       "75%        2.000000  \n",
       "max        3.000000  "
      ]
     },
     "execution_count": 24,
     "metadata": {},
     "output_type": "execute_result"
    }
   ],
   "source": [
    "#Add classes for distances\n",
    "New1= New[[\"company\",\"price_in_cents\",\"ocity_name\",\"dcity_name\",\"distance\",\"duration\",\"transport_type\"]]\n",
    "New1[\"Classe\"]= np.nan\n",
    "\n",
    "for row,x in enumerate(New.distance):\n",
    "    if x<201:\n",
    "        New1.iloc[row,-1]=1\n",
    "    elif x<801:\n",
    "        New1.iloc[row,-1]=2\n",
    "    elif x<2001:\n",
    "        New1.iloc[row,-1]=3\n",
    "    else:\n",
    "        New1.iloc[row,-1]=4\n",
    "del row,x   \n",
    "\n",
    "New1.describe()"
   ]
  },
  {
   "cell_type": "code",
   "execution_count": 25,
   "metadata": {},
   "outputs": [
    {
     "name": "stderr",
     "output_type": "stream",
     "text": [
      "C:\\Users\\PC\\Anaconda3\\lib\\site-packages\\ipykernel_launcher.py:1: SettingWithCopyWarning: \n",
      "A value is trying to be set on a copy of a slice from a DataFrame.\n",
      "Try using .loc[row_indexer,col_indexer] = value instead\n",
      "\n",
      "See the caveats in the documentation: https://pandas.pydata.org/pandas-docs/stable/user_guide/indexing.html#returning-a-view-versus-a-copy\n",
      "  \"\"\"Entry point for launching an IPython kernel.\n"
     ]
    },
    {
     "data": {
      "text/html": [
       "<div>\n",
       "<style scoped>\n",
       "    .dataframe tbody tr th:only-of-type {\n",
       "        vertical-align: middle;\n",
       "    }\n",
       "\n",
       "    .dataframe tbody tr th {\n",
       "        vertical-align: top;\n",
       "    }\n",
       "\n",
       "    .dataframe thead th {\n",
       "        text-align: right;\n",
       "    }\n",
       "</style>\n",
       "<table border=\"1\" class=\"dataframe\">\n",
       "  <thead>\n",
       "    <tr style=\"text-align: right;\">\n",
       "      <th></th>\n",
       "      <th>company</th>\n",
       "      <th>price_in_cents</th>\n",
       "      <th>distance</th>\n",
       "      <th>duration</th>\n",
       "      <th>Classe</th>\n",
       "    </tr>\n",
       "  </thead>\n",
       "  <tbody>\n",
       "    <tr>\n",
       "      <th>count</th>\n",
       "      <td>74168.000000</td>\n",
       "      <td>74168.000000</td>\n",
       "      <td>74168.000000</td>\n",
       "      <td>74168.000000</td>\n",
       "      <td>74168.000000</td>\n",
       "    </tr>\n",
       "    <tr>\n",
       "      <th>mean</th>\n",
       "      <td>7109.565527</td>\n",
       "      <td>43.827111</td>\n",
       "      <td>363.038181</td>\n",
       "      <td>424.620793</td>\n",
       "      <td>1.830857</td>\n",
       "    </tr>\n",
       "    <tr>\n",
       "      <th>std</th>\n",
       "      <td>3005.380792</td>\n",
       "      <td>37.393254</td>\n",
       "      <td>194.930614</td>\n",
       "      <td>594.981356</td>\n",
       "      <td>0.427541</td>\n",
       "    </tr>\n",
       "    <tr>\n",
       "      <th>min</th>\n",
       "      <td>9.000000</td>\n",
       "      <td>3.000000</td>\n",
       "      <td>18.913242</td>\n",
       "      <td>20.000000</td>\n",
       "      <td>1.000000</td>\n",
       "    </tr>\n",
       "    <tr>\n",
       "      <th>25%</th>\n",
       "      <td>8376.000000</td>\n",
       "      <td>19.000000</td>\n",
       "      <td>205.842591</td>\n",
       "      <td>180.000000</td>\n",
       "      <td>2.000000</td>\n",
       "    </tr>\n",
       "    <tr>\n",
       "      <th>50%</th>\n",
       "      <td>8385.000000</td>\n",
       "      <td>33.500000</td>\n",
       "      <td>338.320135</td>\n",
       "      <td>290.000000</td>\n",
       "      <td>2.000000</td>\n",
       "    </tr>\n",
       "    <tr>\n",
       "      <th>75%</th>\n",
       "      <td>8385.000000</td>\n",
       "      <td>52.500000</td>\n",
       "      <td>480.413820</td>\n",
       "      <td>480.000000</td>\n",
       "      <td>2.000000</td>\n",
       "    </tr>\n",
       "    <tr>\n",
       "      <th>max</th>\n",
       "      <td>8387.000000</td>\n",
       "      <td>385.500000</td>\n",
       "      <td>1870.172021</td>\n",
       "      <td>29571.000000</td>\n",
       "      <td>3.000000</td>\n",
       "    </tr>\n",
       "  </tbody>\n",
       "</table>\n",
       "</div>"
      ],
      "text/plain": [
       "            company  price_in_cents      distance      duration        Classe\n",
       "count  74168.000000    74168.000000  74168.000000  74168.000000  74168.000000\n",
       "mean    7109.565527       43.827111    363.038181    424.620793      1.830857\n",
       "std     3005.380792       37.393254    194.930614    594.981356      0.427541\n",
       "min        9.000000        3.000000     18.913242     20.000000      1.000000\n",
       "25%     8376.000000       19.000000    205.842591    180.000000      2.000000\n",
       "50%     8385.000000       33.500000    338.320135    290.000000      2.000000\n",
       "75%     8385.000000       52.500000    480.413820    480.000000      2.000000\n",
       "max     8387.000000      385.500000   1870.172021  29571.000000      3.000000"
      ]
     },
     "execution_count": 25,
     "metadata": {},
     "output_type": "execute_result"
    }
   ],
   "source": [
    "New1['duration']=New1['duration'].astype('timedelta64[m]').astype(float)\n",
    "New1.describe()"
   ]
  },
  {
   "cell_type": "code",
   "execution_count": 87,
   "metadata": {},
   "outputs": [
    {
     "data": {
      "image/png": "[encoded data removed]",
      "text/plain": [
       "<Figure size 864x432 with 2 Axes>"
      ]
     },
     "metadata": {
      "needs_background": "light"
     },
     "output_type": "display_data"
    }
   ],
   "source": [
    "#Now we'll see the diffrences between transport types and distances\n",
    "New2 = New1.groupby([\"transport_type\",'Classe']).mean()\n",
    "New2.drop('company', inplace=True, axis=1)\n",
    "fig, (ax1,ax2) = plt.subplots(nrows=1, ncols=2, figsize=(12, 6))\n",
    "New2.price_in_cents.plot.bar(title=\"Price by class and transport type\",ax=ax1)\n",
    "New2.duration.plot.bar(title=\"Duration(in minutes) by class and transport type\",ax=ax2)\n",
    "fig.tight_layout()\n"
   ]
  },
  {
   "cell_type": "markdown",
   "metadata": {},
   "source": [
    "The interesting point is that the bars looks correlated for the bus, which means the higher the distance, the higher the duration and the more you pay. Whereas, for the car, long distances are travelled faster than low distances which makes the price even higher(for class 2, the price of the carpooling is higher than both train and bus).\\\n",
    "This means that the prices are driven (all other things being equal) by both distances (positive correlation) and duration (negative correlation).In the other hand, a same mean of transport takes generally more time for longer distances, the negative correlation can't be observed directly. The car showed the impact of duration by having a lower price for class 1 than the bus and a higher price for class 2.\\\n",
    "In reality other factors are important such as comfort..\n"
   ]
  },
  {
   "cell_type": "code",
   "execution_count": 85,
   "metadata": {},
   "outputs": [
    {
     "data": {
      "text/plain": [
       "<matplotlib.axes._subplots.AxesSubplot at 0x1a8bd7efb38>"
      ]
     },
     "execution_count": 85,
     "metadata": {},
     "output_type": "execute_result"
    },
    {
     "data": {
      "image/png": "[encoded data removed]",
      "text/plain": [
       "<Figure size 864x432 with 2 Axes>"
      ]
     },
     "metadata": {
      "needs_background": "light"
     },
     "output_type": "display_data"
    }
   ],
   "source": [
    "New2.plot( kind= 'bar' , secondary_y= 'price_in_cents' , rot= 0,figsize=(12,6) )"
   ]
  },
  {
   "cell_type": "code",
   "execution_count": 88,
   "metadata": {},
   "outputs": [
    {
     "name": "stderr",
     "output_type": "stream",
     "text": [
      "C:\\Users\\PC\\Anaconda3\\lib\\site-packages\\pandas\\core\\indexing.py:671: SettingWithCopyWarning: \n",
      "A value is trying to be set on a copy of a slice from a DataFrame\n",
      "\n",
      "See the caveats in the documentation: https://pandas.pydata.org/pandas-docs/stable/user_guide/indexing.html#returning-a-view-versus-a-copy\n",
      "  self._setitem_with_indexer(indexer, value)\n"
     ]
    },
    {
     "data": {
      "text/html": [
       "<div>\n",
       "<style scoped>\n",
       "    .dataframe tbody tr th:only-of-type {\n",
       "        vertical-align: middle;\n",
       "    }\n",
       "\n",
       "    .dataframe tbody tr th {\n",
       "        vertical-align: top;\n",
       "    }\n",
       "\n",
       "    .dataframe thead th {\n",
       "        text-align: right;\n",
       "    }\n",
       "</style>\n",
       "<table border=\"1\" class=\"dataframe\">\n",
       "  <thead>\n",
       "    <tr style=\"text-align: right;\">\n",
       "      <th></th>\n",
       "      <th></th>\n",
       "      <th>price_in_cents</th>\n",
       "      <th>distance</th>\n",
       "      <th>duration</th>\n",
       "    </tr>\n",
       "    <tr>\n",
       "      <th>transport_type</th>\n",
       "      <th>Classe</th>\n",
       "      <th></th>\n",
       "      <th></th>\n",
       "      <th></th>\n",
       "    </tr>\n",
       "  </thead>\n",
       "  <tbody>\n",
       "    <tr>\n",
       "      <th rowspan=\"3\" valign=\"top\">bus</th>\n",
       "      <th>1.0</th>\n",
       "      <td>20.575070</td>\n",
       "      <td>122.179003</td>\n",
       "      <td>0 days 10:07:00</td>\n",
       "    </tr>\n",
       "    <tr>\n",
       "      <th>2.0</th>\n",
       "      <td>32.863730</td>\n",
       "      <td>453.426567</td>\n",
       "      <td>0 days 14:01:00</td>\n",
       "    </tr>\n",
       "    <tr>\n",
       "      <th>3.0</th>\n",
       "      <td>61.127103</td>\n",
       "      <td>985.112447</td>\n",
       "      <td>1 days 00:25:00</td>\n",
       "    </tr>\n",
       "    <tr>\n",
       "      <th rowspan=\"2\" valign=\"top\">carpooling</th>\n",
       "      <th>1.0</th>\n",
       "      <td>19.900000</td>\n",
       "      <td>123.164732</td>\n",
       "      <td>0 days 14:15:00</td>\n",
       "    </tr>\n",
       "    <tr>\n",
       "      <th>2.0</th>\n",
       "      <td>43.385000</td>\n",
       "      <td>440.112680</td>\n",
       "      <td>0 days 10:36:00</td>\n",
       "    </tr>\n",
       "    <tr>\n",
       "      <th>train</th>\n",
       "      <th>2.0</th>\n",
       "      <td>32.655556</td>\n",
       "      <td>412.249198</td>\n",
       "      <td>0 days 12:42:00</td>\n",
       "    </tr>\n",
       "  </tbody>\n",
       "</table>\n",
       "</div>"
      ],
      "text/plain": [
       "                       price_in_cents    distance        duration\n",
       "transport_type Classe                                            \n",
       "bus            1.0          20.575070  122.179003 0 days 10:07:00\n",
       "               2.0          32.863730  453.426567 0 days 14:01:00\n",
       "               3.0          61.127103  985.112447 1 days 00:25:00\n",
       "carpooling     1.0          19.900000  123.164732 0 days 14:15:00\n",
       "               2.0          43.385000  440.112680 0 days 10:36:00\n",
       "train          2.0          32.655556  412.249198 0 days 12:42:00"
      ]
     },
     "execution_count": 88,
     "metadata": {},
     "output_type": "execute_result"
    }
   ],
   "source": [
    "# Let's see our results numerically\n",
    "for row,x in enumerate(New2.duration): New2.duration.iloc[row]= str(round(x))+\"m\";\n",
    "New2.duration=pd.to_timedelta(New2.duration)\n",
    "New2"
   ]
  },
  {
   "cell_type": "markdown",
   "metadata": {},
   "source": [
    "We can say that the durations are abnormally high here especially for class 1. Further verifications have been made to check out this finding, for example the mean of all trips in class 1 is 3h and 10min, also as already seen above the average duration of all trips is 7h, whereas for class 1 it's more! \\\n",
    "Two possible conclusions can be drawn, either there are more sophisticated types of transport that reduced the overall average, or the sample of trips we have here (3.5K with a type of transport) is biased which is the more realistic.    "
   ]
  },
  {
   "cell_type": "code",
   "execution_count": 91,
   "metadata": {},
   "outputs": [
    {
     "data": {
      "text/html": [
       "<div>\n",
       "<style scoped>\n",
       "    .dataframe tbody tr th:only-of-type {\n",
       "        vertical-align: middle;\n",
       "    }\n",
       "\n",
       "    .dataframe tbody tr th {\n",
       "        vertical-align: top;\n",
       "    }\n",
       "\n",
       "    .dataframe thead tr th {\n",
       "        text-align: left;\n",
       "    }\n",
       "\n",
       "    .dataframe thead tr:last-of-type th {\n",
       "        text-align: right;\n",
       "    }\n",
       "</style>\n",
       "<table border=\"1\" class=\"dataframe\">\n",
       "  <thead>\n",
       "    <tr>\n",
       "      <th></th>\n",
       "      <th colspan=\"3\" halign=\"left\">price_in_cents</th>\n",
       "      <th colspan=\"3\" halign=\"left\">distance</th>\n",
       "      <th colspan=\"3\" halign=\"left\">duration</th>\n",
       "    </tr>\n",
       "    <tr>\n",
       "      <th>Classe</th>\n",
       "      <th>1.0</th>\n",
       "      <th>2.0</th>\n",
       "      <th>3.0</th>\n",
       "      <th>1.0</th>\n",
       "      <th>2.0</th>\n",
       "      <th>3.0</th>\n",
       "      <th>1.0</th>\n",
       "      <th>2.0</th>\n",
       "      <th>3.0</th>\n",
       "    </tr>\n",
       "    <tr>\n",
       "      <th>transport_type</th>\n",
       "      <th></th>\n",
       "      <th></th>\n",
       "      <th></th>\n",
       "      <th></th>\n",
       "      <th></th>\n",
       "      <th></th>\n",
       "      <th></th>\n",
       "      <th></th>\n",
       "      <th></th>\n",
       "    </tr>\n",
       "  </thead>\n",
       "  <tbody>\n",
       "    <tr>\n",
       "      <th>bus</th>\n",
       "      <td>20.57507</td>\n",
       "      <td>32.863730</td>\n",
       "      <td>61.127103</td>\n",
       "      <td>122.179003</td>\n",
       "      <td>453.426567</td>\n",
       "      <td>985.112447</td>\n",
       "      <td>10:07:00</td>\n",
       "      <td>14:01:00</td>\n",
       "      <td>1 days 00:25:00</td>\n",
       "    </tr>\n",
       "    <tr>\n",
       "      <th>carpooling</th>\n",
       "      <td>19.90000</td>\n",
       "      <td>43.385000</td>\n",
       "      <td>NaN</td>\n",
       "      <td>123.164732</td>\n",
       "      <td>440.112680</td>\n",
       "      <td>NaN</td>\n",
       "      <td>14:15:00</td>\n",
       "      <td>10:36:00</td>\n",
       "      <td>NaT</td>\n",
       "    </tr>\n",
       "    <tr>\n",
       "      <th>train</th>\n",
       "      <td>NaN</td>\n",
       "      <td>32.655556</td>\n",
       "      <td>NaN</td>\n",
       "      <td>NaN</td>\n",
       "      <td>412.249198</td>\n",
       "      <td>NaN</td>\n",
       "      <td>NaT</td>\n",
       "      <td>12:42:00</td>\n",
       "      <td>NaT</td>\n",
       "    </tr>\n",
       "  </tbody>\n",
       "</table>\n",
       "</div>"
      ],
      "text/plain": [
       "               price_in_cents                          distance              \\\n",
       "Classe                    1.0        2.0        3.0         1.0         2.0   \n",
       "transport_type                                                                \n",
       "bus                  20.57507  32.863730  61.127103  122.179003  453.426567   \n",
       "carpooling           19.90000  43.385000        NaN  123.164732  440.112680   \n",
       "train                     NaN  32.655556        NaN         NaN  412.249198   \n",
       "\n",
       "                           duration                           \n",
       "Classe                 3.0      1.0      2.0             3.0  \n",
       "transport_type                                                \n",
       "bus             985.112447 10:07:00 14:01:00 1 days 00:25:00  \n",
       "carpooling             NaN 14:15:00 10:36:00             NaT  \n",
       "train                  NaN      NaT 12:42:00             NaT  "
      ]
     },
     "execution_count": 91,
     "metadata": {},
     "output_type": "execute_result"
    }
   ],
   "source": [
    "comparison =New2.unstack(1)\n",
    "comparison"
   ]
  },
  {
   "cell_type": "markdown",
   "metadata": {},
   "source": [
    "We can see that the diffrences in terms of duration between the different classes and transport types are more or less obvious, whereas for some of the distances and prices it's not clear.\n",
    "\n",
    "We'll perform a t test to check if the prices and distances are really different for class 1 between the bus and carpooling\n"
   ]
  },
  {
   "cell_type": "code",
   "execution_count": 92,
   "metadata": {},
   "outputs": [
    {
     "name": "stderr",
     "output_type": "stream",
     "text": [
      "C:\\Users\\PC\\Anaconda3\\lib\\site-packages\\numpy\\core\\fromnumeric.py:3584: RuntimeWarning: Degrees of freedom <= 0 for slice\n",
      "  **kwargs)\n",
      "C:\\Users\\PC\\Anaconda3\\lib\\site-packages\\numpy\\core\\_methods.py:209: RuntimeWarning: invalid value encountered in double_scalars\n",
      "  ret = ret.dtype.type(ret / rcount)\n",
      "C:\\Users\\PC\\Anaconda3\\lib\\site-packages\\scipy\\stats\\_distn_infrastructure.py:877: RuntimeWarning: invalid value encountered in greater\n",
      "  return (self.a < x) & (x < self.b)\n",
      "C:\\Users\\PC\\Anaconda3\\lib\\site-packages\\scipy\\stats\\_distn_infrastructure.py:877: RuntimeWarning: invalid value encountered in less\n",
      "  return (self.a < x) & (x < self.b)\n",
      "C:\\Users\\PC\\Anaconda3\\lib\\site-packages\\scipy\\stats\\_distn_infrastructure.py:1831: RuntimeWarning: invalid value encountered in less_equal\n",
      "  cond2 = cond0 & (x <= self.a)\n"
     ]
    },
    {
     "data": {
      "text/plain": [
       "Ttest_indResult(statistic=nan, pvalue=nan)"
      ]
     },
     "execution_count": 92,
     "metadata": {},
     "output_type": "execute_result"
    }
   ],
   "source": [
    "import scipy.stats\n",
    "bus= New1[(New1.transport_type==\"bus\")]\n",
    "carpool= New1[(New1.transport_type==\"carpooling\")]\n",
    "A=bus.price_in_cents[(bus.Classe==1)]\n",
    "B=carpool.price_in_cents[(carpool.Classe==1)]\n",
    "scipy.stats.ttest_ind(A, B, equal_var=False, nan_policy='propagate')"
   ]
  },
  {
   "cell_type": "markdown",
   "metadata": {},
   "source": [
    "Since there's only 1 observation of carpooling on Class 1, we can't say statistically that there's a difference between the two types of transport"
   ]
  },
  {
   "cell_type": "code",
   "execution_count": 93,
   "metadata": {},
   "outputs": [
    {
     "data": {
      "text/plain": [
       "Ttest_indResult(statistic=-3.0133565242416576, pvalue=0.05631993273920032)"
      ]
     },
     "execution_count": 93,
     "metadata": {},
     "output_type": "execute_result"
    }
   ],
   "source": [
    "#Let's check for Class2\n",
    "train= New1[(New1.transport_type==\"train\")]\n",
    "A=bus.price_in_cents[(bus.Classe==2)]\n",
    "B=carpool.price_in_cents[(carpool.Classe==2)]\n",
    "\n",
    "scipy.stats.ttest_ind(A, B, equal_var=False, nan_policy='propagate')"
   ]
  },
  {
   "cell_type": "markdown",
   "metadata": {},
   "source": [
    "The negative t stat suggests prices of buses are lower than the carpooling and the small p value confirms that it's significant  "
   ]
  },
  {
   "cell_type": "code",
   "execution_count": 94,
   "metadata": {},
   "outputs": [
    {
     "data": {
      "text/plain": [
       "Ttest_indResult(statistic=0.26039073425449916, pvalue=0.811312594590951)"
      ]
     },
     "execution_count": 94,
     "metadata": {},
     "output_type": "execute_result"
    }
   ],
   "source": [
    "# Let's see the distance\n",
    "scipy.stats.ttest_ind(bus.distance[(bus.Classe==2)], carpool.distance[(carpool.Classe==2)], equal_var=False, nan_policy='propagate')"
   ]
  },
  {
   "cell_type": "markdown",
   "metadata": {},
   "source": [
    "Positive t test, means the distances of the bus are higher but the p value is too high, which means we can't say the distances of the bus are significantly higher than the carpooling "
   ]
  },
  {
   "cell_type": "code",
   "execution_count": 99,
   "metadata": {},
   "outputs": [
    {
     "data": {
      "text/plain": [
       "Ttest_indResult(statistic=5.929288935236003, pvalue=0.006688899462868582)"
      ]
     },
     "execution_count": 99,
     "metadata": {},
     "output_type": "execute_result"
    }
   ],
   "source": [
    "#Just for application we'll see the test for durations\n",
    "scipy.stats.ttest_ind(bus.duration[(bus.Classe==2)], carpool.duration[(carpool.Classe==2)], equal_var=False, nan_policy='propagate')"
   ]
  },
  {
   "cell_type": "markdown",
   "metadata": {},
   "source": [
    "The results confirms that the duration of the bus is signficantly higher than the carpooling for the class 2"
   ]
  },
  {
   "cell_type": "code",
   "execution_count": 95,
   "metadata": {},
   "outputs": [
    {
     "data": {
      "text/plain": [
       "Ttest_indResult(statistic=-0.06423544274293162, pvalue=0.9503406660275509)"
      ]
     },
     "execution_count": 95,
     "metadata": {},
     "output_type": "execute_result"
    }
   ],
   "source": [
    "# Let's check out the trains now\n",
    "C=train.price_in_cents[(train.Classe==2)]\n",
    "#Prices:\n",
    "scipy.stats.ttest_ind(C, A, equal_var=False, nan_policy='propagate')\n"
   ]
  },
  {
   "cell_type": "markdown",
   "metadata": {},
   "source": [
    "The results suggest that the prices of the train are not significantly lower than the buses'"
   ]
  },
  {
   "cell_type": "code",
   "execution_count": 98,
   "metadata": {},
   "outputs": [
    {
     "data": {
      "text/plain": [
       "Ttest_indResult(statistic=-0.7514694449194874, pvalue=0.47377889175815735)"
      ]
     },
     "execution_count": 98,
     "metadata": {},
     "output_type": "execute_result"
    }
   ],
   "source": [
    "#Distance:\n",
    "scipy.stats.ttest_ind(train.distance[(train.Classe==2)], bus.distance[(bus.Classe==2)], equal_var=False, nan_policy='propagate')"
   ]
  },
  {
   "cell_type": "markdown",
   "metadata": {},
   "source": [
    "The results suggest that the distances of the train are not significantly lower than the bus."
   ]
  },
  {
   "cell_type": "code",
   "execution_count": 100,
   "metadata": {},
   "outputs": [
    {
     "data": {
      "text/plain": [
       "Ttest_indResult(statistic=-0.5484090102679738, pvalue=0.5982754285664129)"
      ]
     },
     "execution_count": 100,
     "metadata": {},
     "output_type": "execute_result"
    }
   ],
   "source": [
    "#duration\n",
    "scipy.stats.ttest_ind(train.duration[(train.Classe==2)], bus.duration[(bus.Classe==2)], equal_var=False, nan_policy='propagate')"
   ]
  },
  {
   "cell_type": "markdown",
   "metadata": {},
   "source": [
    "The results suggest that the durations of the train are not significantly lower than the bus."
   ]
  },
  {
   "cell_type": "code",
   "execution_count": 105,
   "metadata": {},
   "outputs": [
    {
     "name": "stdout",
     "output_type": "stream",
     "text": [
      "Prices:  Ttest_indResult(statistic=-2.258466454926345, pvalue=0.05334173900099041)\n",
      "Distances:  Ttest_indResult(statistic=-0.3723325195274963, pvalue=0.7180181894617763)\n",
      "Duration:  Ttest_indResult(statistic=0.857734317635545, pvalue=0.4137177359637999)\n"
     ]
    }
   ],
   "source": [
    "#Train Vs car\n",
    "#Prices:\n",
    "print(\"Prices: \",scipy.stats.ttest_ind(C, B, equal_var=False, nan_policy='propagate'))\n",
    "#Distance:\n",
    "print(\"Distances: \",scipy.stats.ttest_ind(train.distance[(train.Classe==2)], carpool.distance[(carpool.Classe==2)], equal_var=False, nan_policy='propagate'))\n",
    "#duration\n",
    "print(\"Duration: \",scipy.stats.ttest_ind(train.duration[(train.Classe==2)], carpool.duration[(carpool.Classe==2)], equal_var=False, nan_policy='propagate'))\n"
   ]
  },
  {
   "cell_type": "markdown",
   "metadata": {},
   "source": [
    "The results shows that the prices of trains are significantly lower than the cars' but we can't draw significant conclusions on duration and distance\n",
    "\\\n",
    "We can say that there's not enough data for trains and carpooling to get significant samples on which we can draw statistical conclusions"
   ]
  }
 ],
 "metadata": {
  "kernelspec": {
   "display_name": "Python 3",
   "language": "python",
   "name": "python3"
  },
  "language_info": {
   "codemirror_mode": {
    "name": "ipython",
    "version": 3
   },
   "file_extension": ".py",
   "mimetype": "text/x-python",
   "name": "python",
   "nbconvert_exporter": "python",
   "pygments_lexer": "ipython3",
   "version": "3.7.3"
  }
 },
 "nbformat": 4,
 "nbformat_minor": 2
}
